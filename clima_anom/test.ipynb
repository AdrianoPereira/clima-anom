{
 "cells": [
  {
   "cell_type": "code",
   "execution_count": 1,
   "metadata": {},
   "outputs": [],
   "source": [
    "import numpy as np\n",
    "\n",
    "from reading import *\n",
    "from processing import *\n",
    "from statistic import *\n",
    "from geometries import *"
   ]
  },
  {
   "cell_type": "code",
   "execution_count": 2,
   "metadata": {},
   "outputs": [
    {
     "name": "stdout",
     "output_type": "stream",
     "text": [
      "hgt : (843, 1, 73, 144)\n",
      "lat : (73,)\n",
      "level : (1,)\n",
      "lon : (144,)\n",
      "time : (843,)\n"
     ]
    }
   ],
   "source": [
    "namefile = '../data/Hgt_1000hPa_Dec49_Feb20.nc'\n",
    "data = read_netcdf(namefile,show=2)"
   ]
  },
  {
   "cell_type": "code",
   "execution_count": 4,
   "metadata": {},
   "outputs": [
    {
     "name": "stdout",
     "output_type": "stream",
     "text": [
      "Help on function season in module processing.preprocess:\n",
      "\n",
      "season(var_in, season=1)\n",
      "    DESCRIPTION\n",
      "    This function separates the data into stations, creating a 3d matrix \n",
      "    of anomalies and climatologies.\n",
      "    \n",
      "    A funtion input is a pandas Data Frame and one Id,\n",
      "    \n",
      "    climatology, anomaly = ca.season(data_input,id)\n",
      "    \n",
      "    Where id represents the season:\n",
      "    1: summer\n",
      "    2: autumn\n",
      "    3: winter\n",
      "    4: spring\n",
      "    \n",
      "    EXAMPLE\n",
      "    >>> namefile = '/home/user/Data/Hgt_1000hPa_Dec49_Feb20.nc'\n",
      "    >>> data = ca.read_netcdf(data_dir,1)\n",
      "    \n",
      "    >>> hgt = data['hgt'][:,0,:,:]\n",
      "    >>> hgt_dictionary = ca.clima_anom(hgt)\n",
      "    \n",
      "    >>> clima_summer, anom_summer = ca.season(hgt_dictionary,1)\n",
      "    >>> clima_autumn, anom_autumn = ca.season(hgt_dictionary,2)\n",
      "    >>> clima_winter, anom_winter = ca.season(hgt_dictionary,3)\n",
      "    >>> clima_spring, anom_spring = ca.season(hgt_dictionary,4)\n",
      "\n"
     ]
    }
   ],
   "source": [
    "help(season)"
   ]
  },
  {
   "cell_type": "code",
   "execution_count": null,
   "metadata": {},
   "outputs": [],
   "source": []
  },
  {
   "cell_type": "code",
   "execution_count": null,
   "metadata": {},
   "outputs": [],
   "source": []
  }
 ],
 "metadata": {
  "interpreter": {
   "hash": "c6c4883052875ec3257edf99ee092a790b9a432228222ee7e742d4f8a559e5a8"
  },
  "kernelspec": {
   "display_name": "Python 3.9.7 64-bit ('AXE': conda)",
   "language": "python",
   "name": "python3"
  },
  "language_info": {
   "codemirror_mode": {
    "name": "ipython",
    "version": 3
   },
   "file_extension": ".py",
   "mimetype": "text/x-python",
   "name": "python",
   "nbconvert_exporter": "python",
   "pygments_lexer": "ipython3",
   "version": "3.9.7"
  },
  "orig_nbformat": 4
 },
 "nbformat": 4,
 "nbformat_minor": 2
}
