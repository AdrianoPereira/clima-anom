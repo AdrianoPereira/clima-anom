{
 "cells": [
  {
   "cell_type": "code",
   "execution_count": 3,
   "metadata": {},
   "outputs": [],
   "source": [
    "import numpy as np\n",
    "import calendar "
   ]
  },
  {
   "cell_type": "code",
   "execution_count": 12,
   "metadata": {},
   "outputs": [],
   "source": [
    "def DiasDoAno(ano,mes):\n",
    "    \n",
    "    if calendar.isleap(ano) == True:\n",
    "\n",
    "        if mes == 'jan':\n",
    "            start=1;end=31\n",
    "        elif mes == 'feb':\n",
    "            start=32;end=60\n",
    "        elif mes == 'mar':\n",
    "            start=61;end=91\n",
    "        elif mes == 'apr':\n",
    "            start=92;end=121\n",
    "        elif mes == 'may':\n",
    "            start=122;end=152\n",
    "        elif mes == 'jun':\n",
    "            start=153;end=182\n",
    "        elif mes == 'jul':\n",
    "            start=183;end=213\n",
    "        elif mes == 'ago':\n",
    "            start=214;end=244\n",
    "        elif mes == 'sep':\n",
    "            start=245;end=274\n",
    "        elif mes == 'oct':\n",
    "            start=275;end=305\n",
    "        elif mes == 'nov':\n",
    "            start=306;end=335\n",
    "        elif mes == 'dec':\n",
    "            start=336;end=366\n",
    "\n",
    "    else:\n",
    "\n",
    "        if mes == 'jan':\n",
    "            start=1;end=31\n",
    "        elif mes == 'feb':\n",
    "            start=32;end=59\n",
    "        elif mes == 'mar':\n",
    "            start=60;end=90\n",
    "        elif mes == 'apr':\n",
    "            start=91;end=120\n",
    "        elif mes == 'may':\n",
    "            start=121;end=151\n",
    "        elif mes == 'jun':\n",
    "            start=152;end=181\n",
    "        elif mes == 'jul':\n",
    "            start=182;end=212\n",
    "        elif mes == 'ago':\n",
    "            start=213;end=243\n",
    "        elif mes == 'sep':\n",
    "            start=244;end=273\n",
    "        elif mes == 'oct':\n",
    "            start=274;end=304\n",
    "        elif mes == 'nov':\n",
    "            start=305;end=334\n",
    "        elif mes == 'dec':\n",
    "            start=335;end=365   \n",
    "                \n",
    "    return start,end"
   ]
  },
  {
   "cell_type": "code",
   "execution_count": 15,
   "metadata": {},
   "outputs": [
    {
     "name": "stdout",
     "output_type": "stream",
     "text": [
      "32 59\n"
     ]
    }
   ],
   "source": [
    "day_start,day_end = DiasDoAno(2001,'feb')\n",
    "print(day_start,day_end)"
   ]
  },
  {
   "cell_type": "code",
   "execution_count": null,
   "metadata": {},
   "outputs": [],
   "source": []
  }
 ],
 "metadata": {
  "kernelspec": {
   "display_name": "Python 3",
   "language": "python",
   "name": "python3"
  },
  "language_info": {
   "codemirror_mode": {
    "name": "ipython",
    "version": 3
   },
   "file_extension": ".py",
   "mimetype": "text/x-python",
   "name": "python",
   "nbconvert_exporter": "python",
   "pygments_lexer": "ipython3",
   "version": "3.8.3"
  }
 },
 "nbformat": 4,
 "nbformat_minor": 4
}
