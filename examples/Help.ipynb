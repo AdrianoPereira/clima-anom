{
 "cells": [
  {
   "cell_type": "code",
   "execution_count": 1,
   "metadata": {},
   "outputs": [],
   "source": [
    "import clima_anom as ca"
   ]
  },
  {
   "cell_type": "code",
   "execution_count": 2,
   "metadata": {},
   "outputs": [
    {
     "name": "stdout",
     "output_type": "stream",
     "text": [
      "\n",
      "Todo el codigo usa la notacion Data(time,latitude,longitude)\n",
      "\n",
      "\u001b[1mFunciones Disponibles:\u001b[0m\n",
      "\n",
      "read_netcdf\n",
      "clima_anom\n",
      "season\n",
      "correlation\n",
      "closest_point\n",
      "extract_area\n",
      "MAE\n",
      "RMSE\n",
      "DiasDoAno\n",
      "create_netcdf\n",
      "remove_continent_ocean\n",
      "\n",
      "Ejemplo: help_funtion('season')\n"
     ]
    }
   ],
   "source": [
    "ca.help_funtion()"
   ]
  },
  {
   "cell_type": "code",
   "execution_count": 3,
   "metadata": {},
   "outputs": [
    {
     "name": "stdout",
     "output_type": "stream",
     "text": [
      "\n",
      "\u001b[1mseason\u001b[0m\n",
      "\n",
      "clima_anom.season(data_dictionary,season_number)\n",
      "\n",
      "Funcion para obtener las series estacionales; verano, otono, invierno y primavera.\n",
      "\n",
      "Se debe usar el diccionario creado con clima_anom.\n",
      "\n",
      "Donde cada estacion esta definida por numero:\n",
      "\n",
      "1: Summer\n",
      "2: Autumn\n",
      "3: winter\n",
      "4: Spring\n",
      "\n",
      "Por ejemplo, usando o diccionario de vwnd:\n",
      "\n",
      "     summer_clima,summer_anom = clima_anom.season(vwn_dic,season=1)\n",
      "\n",
      "Generando la salida:\n",
      "\n",
      "     SUMMER Climatology\n",
      "\n",
      "     Climatology:  (73, 144)\n",
      "     Anomaly:  (69, 73, 144)\n",
      "\n"
     ]
    }
   ],
   "source": [
    "ca.help_funtion('season')"
   ]
  },
  {
   "cell_type": "code",
   "execution_count": 4,
   "metadata": {},
   "outputs": [
    {
     "name": "stdout",
     "output_type": "stream",
     "text": [
      "\n",
      "\u001b[1mcreate_netcdf\u001b[0m\n",
      "\n",
      "Firts define o dictionary info, for example:\n",
      "\n",
      "      info = {'file': '../data/Hgt_500hPa_Anomalies_Jan80_Dec83.nc',\n",
      "              'title': 'Geopotential Height',\n",
      "              'year_start':1980,'month_start':1,'day_start':1,'hour_start':0,'minute_start':0,\n",
      "              'year_end':1983,'month_end':12,'day_end':1,'hour_end':23,'minute_end':59,\n",
      "              'time_frequency': 'Monthly',\n",
      "              'time_interval': 1,\n",
      "              'var_name': 'hgt',\n",
      "              'var_units': 'hPa'}\n",
      "\n",
      "      ca.create_netcdf(info,latitude,longitude,Data)\n",
      "\n",
      "For 'time_frequency' we can use: 'Monthly', 'Weekly', 'Daily', 'Hourly', 'Minutely'\n"
     ]
    }
   ],
   "source": [
    "ca.help_funtion('create_netcdf')"
   ]
  },
  {
   "cell_type": "code",
   "execution_count": 5,
   "metadata": {},
   "outputs": [
    {
     "name": "stdout",
     "output_type": "stream",
     "text": [
      "\n",
      "\u001b[1mremove_continent_ocean\u001b[0m\n",
      "\n",
      "Use data of latitude, longitude and variable for extrat ocean or continent:\n",
      "\n",
      "      vwn_without_ocean = clima_anom.remove_continent_ocean(vwn,lat,lon,'ocean')\n",
      "\n",
      "For continent, we can use: \"Continent\", \"Continent\" or \"1\"\n",
      "For ocean, we can use: \"Ocean\", \"ocean\" or \"2\"\n"
     ]
    }
   ],
   "source": [
    "ca.help_funtion('remove_continent_ocean')"
   ]
  }
 ],
 "metadata": {
  "kernelspec": {
   "display_name": "Python 3",
   "language": "python",
   "name": "python3"
  },
  "language_info": {
   "codemirror_mode": {
    "name": "ipython",
    "version": 3
   },
   "file_extension": ".py",
   "mimetype": "text/x-python",
   "name": "python",
   "nbconvert_exporter": "python",
   "pygments_lexer": "ipython3",
   "version": "3.8.8"
  }
 },
 "nbformat": 4,
 "nbformat_minor": 4
}
